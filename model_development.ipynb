{
 "cells": [
  {
   "cell_type": "code",
   "execution_count": 1,
   "metadata": {},
   "outputs": [],
   "source": [
    "import pandas as pd\n",
    "import os\n",
    "\n",
    "HOUSING_TRAINING_DATA_PATH = os.path.join(\"data\", \"train.csv\")\n",
    "\n",
    "def load_csv_data(csv_path: str = HOUSING_TRAINING_DATA_PATH):\n",
    "    \"\"\" Load data from a csv file.\n",
    "\n",
    "    Args:\n",
    "        csv_path (str): The file path of the csv file to be loaded.\n",
    "\n",
    "    Returns:\n",
    "        df (pandas.DataFrame): A Pandas DataFrame object containing the data loaded from the input csv file.\n",
    "    \"\"\"\n",
    "    df = pd.read_csv(csv_path)\n",
    "    return df"
   ]
  },
  {
   "cell_type": "code",
   "execution_count": 2,
   "metadata": {},
   "outputs": [],
   "source": [
    "from sklearn.model_selection import train_test_split\n",
    "\n",
    "housing_data = load_csv_data()\n",
    "train_set, test_set = train_test_split(housing_data, test_size=0.2, random_state=42)"
   ]
  },
  {
   "cell_type": "code",
   "execution_count": 3,
   "metadata": {},
   "outputs": [
    {
     "name": "stdout",
     "output_type": "stream",
     "text": [
      "<class 'pandas.core.frame.DataFrame'>\n",
      "RangeIndex: 1460 entries, 0 to 1459\n",
      "Data columns (total 81 columns):\n",
      " #   Column         Non-Null Count  Dtype  \n",
      "---  ------         --------------  -----  \n",
      " 0   Id             1460 non-null   int64  \n",
      " 1   MSSubClass     1460 non-null   int64  \n",
      " 2   MSZoning       1460 non-null   object \n",
      " 3   LotFrontage    1201 non-null   float64\n",
      " 4   LotArea        1460 non-null   int64  \n",
      " 5   Street         1460 non-null   object \n",
      " 6   Alley          91 non-null     object \n",
      " 7   LotShape       1460 non-null   object \n",
      " 8   LandContour    1460 non-null   object \n",
      " 9   Utilities      1460 non-null   object \n",
      " 10  LotConfig      1460 non-null   object \n",
      " 11  LandSlope      1460 non-null   object \n",
      " 12  Neighborhood   1460 non-null   object \n",
      " 13  Condition1     1460 non-null   object \n",
      " 14  Condition2     1460 non-null   object \n",
      " 15  BldgType       1460 non-null   object \n",
      " 16  HouseStyle     1460 non-null   object \n",
      " 17  OverallQual    1460 non-null   int64  \n",
      " 18  OverallCond    1460 non-null   int64  \n",
      " 19  YearBuilt      1460 non-null   int64  \n",
      " 20  YearRemodAdd   1460 non-null   int64  \n",
      " 21  RoofStyle      1460 non-null   object \n",
      " 22  RoofMatl       1460 non-null   object \n",
      " 23  Exterior1st    1460 non-null   object \n",
      " 24  Exterior2nd    1460 non-null   object \n",
      " 25  MasVnrType     1452 non-null   object \n",
      " 26  MasVnrArea     1452 non-null   float64\n",
      " 27  ExterQual      1460 non-null   object \n",
      " 28  ExterCond      1460 non-null   object \n",
      " 29  Foundation     1460 non-null   object \n",
      " 30  BsmtQual       1423 non-null   object \n",
      " 31  BsmtCond       1423 non-null   object \n",
      " 32  BsmtExposure   1422 non-null   object \n",
      " 33  BsmtFinType1   1423 non-null   object \n",
      " 34  BsmtFinSF1     1460 non-null   int64  \n",
      " 35  BsmtFinType2   1422 non-null   object \n",
      " 36  BsmtFinSF2     1460 non-null   int64  \n",
      " 37  BsmtUnfSF      1460 non-null   int64  \n",
      " 38  TotalBsmtSF    1460 non-null   int64  \n",
      " 39  Heating        1460 non-null   object \n",
      " 40  HeatingQC      1460 non-null   object \n",
      " 41  CentralAir     1460 non-null   object \n",
      " 42  Electrical     1459 non-null   object \n",
      " 43  1stFlrSF       1460 non-null   int64  \n",
      " 44  2ndFlrSF       1460 non-null   int64  \n",
      " 45  LowQualFinSF   1460 non-null   int64  \n",
      " 46  GrLivArea      1460 non-null   int64  \n",
      " 47  BsmtFullBath   1460 non-null   int64  \n",
      " 48  BsmtHalfBath   1460 non-null   int64  \n",
      " 49  FullBath       1460 non-null   int64  \n",
      " 50  HalfBath       1460 non-null   int64  \n",
      " 51  BedroomAbvGr   1460 non-null   int64  \n",
      " 52  KitchenAbvGr   1460 non-null   int64  \n",
      " 53  KitchenQual    1460 non-null   object \n",
      " 54  TotRmsAbvGrd   1460 non-null   int64  \n",
      " 55  Functional     1460 non-null   object \n",
      " 56  Fireplaces     1460 non-null   int64  \n",
      " 57  FireplaceQu    770 non-null    object \n",
      " 58  GarageType     1379 non-null   object \n",
      " 59  GarageYrBlt    1379 non-null   float64\n",
      " 60  GarageFinish   1379 non-null   object \n",
      " 61  GarageCars     1460 non-null   int64  \n",
      " 62  GarageArea     1460 non-null   int64  \n",
      " 63  GarageQual     1379 non-null   object \n",
      " 64  GarageCond     1379 non-null   object \n",
      " 65  PavedDrive     1460 non-null   object \n",
      " 66  WoodDeckSF     1460 non-null   int64  \n",
      " 67  OpenPorchSF    1460 non-null   int64  \n",
      " 68  EnclosedPorch  1460 non-null   int64  \n",
      " 69  3SsnPorch      1460 non-null   int64  \n",
      " 70  ScreenPorch    1460 non-null   int64  \n",
      " 71  PoolArea       1460 non-null   int64  \n",
      " 72  PoolQC         7 non-null      object \n",
      " 73  Fence          281 non-null    object \n",
      " 74  MiscFeature    54 non-null     object \n",
      " 75  MiscVal        1460 non-null   int64  \n",
      " 76  MoSold         1460 non-null   int64  \n",
      " 77  YrSold         1460 non-null   int64  \n",
      " 78  SaleType       1460 non-null   object \n",
      " 79  SaleCondition  1460 non-null   object \n",
      " 80  SalePrice      1460 non-null   int64  \n",
      "dtypes: float64(3), int64(35), object(43)\n",
      "memory usage: 924.0+ KB\n"
     ]
    }
   ],
   "source": [
    "housing_data.info(max_cols=81)"
   ]
  },
  {
   "cell_type": "code",
   "execution_count": 4,
   "metadata": {},
   "outputs": [
    {
     "data": {
      "text/html": [
       "<div>\n",
       "<style scoped>\n",
       "    .dataframe tbody tr th:only-of-type {\n",
       "        vertical-align: middle;\n",
       "    }\n",
       "\n",
       "    .dataframe tbody tr th {\n",
       "        vertical-align: top;\n",
       "    }\n",
       "\n",
       "    .dataframe thead th {\n",
       "        text-align: right;\n",
       "    }\n",
       "</style>\n",
       "<table border=\"1\" class=\"dataframe\">\n",
       "  <thead>\n",
       "    <tr style=\"text-align: right;\">\n",
       "      <th></th>\n",
       "      <th>Id</th>\n",
       "      <th>MSSubClass</th>\n",
       "      <th>MSZoning</th>\n",
       "      <th>LotFrontage</th>\n",
       "      <th>LotArea</th>\n",
       "      <th>Street</th>\n",
       "      <th>Alley</th>\n",
       "      <th>LotShape</th>\n",
       "      <th>LandContour</th>\n",
       "      <th>Utilities</th>\n",
       "      <th>...</th>\n",
       "      <th>PoolArea</th>\n",
       "      <th>PoolQC</th>\n",
       "      <th>Fence</th>\n",
       "      <th>MiscFeature</th>\n",
       "      <th>MiscVal</th>\n",
       "      <th>MoSold</th>\n",
       "      <th>YrSold</th>\n",
       "      <th>SaleType</th>\n",
       "      <th>SaleCondition</th>\n",
       "      <th>SalePrice</th>\n",
       "    </tr>\n",
       "  </thead>\n",
       "  <tbody>\n",
       "    <tr>\n",
       "      <th>254</th>\n",
       "      <td>255</td>\n",
       "      <td>20</td>\n",
       "      <td>RL</td>\n",
       "      <td>70.0</td>\n",
       "      <td>8400</td>\n",
       "      <td>Pave</td>\n",
       "      <td>NaN</td>\n",
       "      <td>Reg</td>\n",
       "      <td>Lvl</td>\n",
       "      <td>AllPub</td>\n",
       "      <td>...</td>\n",
       "      <td>0</td>\n",
       "      <td>NaN</td>\n",
       "      <td>NaN</td>\n",
       "      <td>NaN</td>\n",
       "      <td>0</td>\n",
       "      <td>6</td>\n",
       "      <td>2010</td>\n",
       "      <td>WD</td>\n",
       "      <td>Normal</td>\n",
       "      <td>145000</td>\n",
       "    </tr>\n",
       "    <tr>\n",
       "      <th>1066</th>\n",
       "      <td>1067</td>\n",
       "      <td>60</td>\n",
       "      <td>RL</td>\n",
       "      <td>59.0</td>\n",
       "      <td>7837</td>\n",
       "      <td>Pave</td>\n",
       "      <td>NaN</td>\n",
       "      <td>IR1</td>\n",
       "      <td>Lvl</td>\n",
       "      <td>AllPub</td>\n",
       "      <td>...</td>\n",
       "      <td>0</td>\n",
       "      <td>NaN</td>\n",
       "      <td>NaN</td>\n",
       "      <td>NaN</td>\n",
       "      <td>0</td>\n",
       "      <td>5</td>\n",
       "      <td>2009</td>\n",
       "      <td>WD</td>\n",
       "      <td>Normal</td>\n",
       "      <td>178000</td>\n",
       "    </tr>\n",
       "    <tr>\n",
       "      <th>638</th>\n",
       "      <td>639</td>\n",
       "      <td>30</td>\n",
       "      <td>RL</td>\n",
       "      <td>67.0</td>\n",
       "      <td>8777</td>\n",
       "      <td>Pave</td>\n",
       "      <td>NaN</td>\n",
       "      <td>Reg</td>\n",
       "      <td>Lvl</td>\n",
       "      <td>AllPub</td>\n",
       "      <td>...</td>\n",
       "      <td>0</td>\n",
       "      <td>NaN</td>\n",
       "      <td>MnPrv</td>\n",
       "      <td>NaN</td>\n",
       "      <td>0</td>\n",
       "      <td>5</td>\n",
       "      <td>2008</td>\n",
       "      <td>WD</td>\n",
       "      <td>Normal</td>\n",
       "      <td>85000</td>\n",
       "    </tr>\n",
       "    <tr>\n",
       "      <th>799</th>\n",
       "      <td>800</td>\n",
       "      <td>50</td>\n",
       "      <td>RL</td>\n",
       "      <td>60.0</td>\n",
       "      <td>7200</td>\n",
       "      <td>Pave</td>\n",
       "      <td>NaN</td>\n",
       "      <td>Reg</td>\n",
       "      <td>Lvl</td>\n",
       "      <td>AllPub</td>\n",
       "      <td>...</td>\n",
       "      <td>0</td>\n",
       "      <td>NaN</td>\n",
       "      <td>MnPrv</td>\n",
       "      <td>NaN</td>\n",
       "      <td>0</td>\n",
       "      <td>6</td>\n",
       "      <td>2007</td>\n",
       "      <td>WD</td>\n",
       "      <td>Normal</td>\n",
       "      <td>175000</td>\n",
       "    </tr>\n",
       "    <tr>\n",
       "      <th>380</th>\n",
       "      <td>381</td>\n",
       "      <td>50</td>\n",
       "      <td>RL</td>\n",
       "      <td>50.0</td>\n",
       "      <td>5000</td>\n",
       "      <td>Pave</td>\n",
       "      <td>Pave</td>\n",
       "      <td>Reg</td>\n",
       "      <td>Lvl</td>\n",
       "      <td>AllPub</td>\n",
       "      <td>...</td>\n",
       "      <td>0</td>\n",
       "      <td>NaN</td>\n",
       "      <td>NaN</td>\n",
       "      <td>NaN</td>\n",
       "      <td>0</td>\n",
       "      <td>5</td>\n",
       "      <td>2010</td>\n",
       "      <td>WD</td>\n",
       "      <td>Normal</td>\n",
       "      <td>127000</td>\n",
       "    </tr>\n",
       "  </tbody>\n",
       "</table>\n",
       "<p>5 rows × 81 columns</p>\n",
       "</div>"
      ],
      "text/plain": [
       "        Id  MSSubClass MSZoning  LotFrontage  LotArea Street Alley LotShape  \\\n",
       "254    255          20       RL         70.0     8400   Pave   NaN      Reg   \n",
       "1066  1067          60       RL         59.0     7837   Pave   NaN      IR1   \n",
       "638    639          30       RL         67.0     8777   Pave   NaN      Reg   \n",
       "799    800          50       RL         60.0     7200   Pave   NaN      Reg   \n",
       "380    381          50       RL         50.0     5000   Pave  Pave      Reg   \n",
       "\n",
       "     LandContour Utilities  ... PoolArea PoolQC  Fence MiscFeature MiscVal  \\\n",
       "254          Lvl    AllPub  ...        0    NaN    NaN         NaN       0   \n",
       "1066         Lvl    AllPub  ...        0    NaN    NaN         NaN       0   \n",
       "638          Lvl    AllPub  ...        0    NaN  MnPrv         NaN       0   \n",
       "799          Lvl    AllPub  ...        0    NaN  MnPrv         NaN       0   \n",
       "380          Lvl    AllPub  ...        0    NaN    NaN         NaN       0   \n",
       "\n",
       "     MoSold YrSold  SaleType  SaleCondition  SalePrice  \n",
       "254       6   2010        WD         Normal     145000  \n",
       "1066      5   2009        WD         Normal     178000  \n",
       "638       5   2008        WD         Normal      85000  \n",
       "799       6   2007        WD         Normal     175000  \n",
       "380       5   2010        WD         Normal     127000  \n",
       "\n",
       "[5 rows x 81 columns]"
      ]
     },
     "execution_count": 4,
     "metadata": {},
     "output_type": "execute_result"
    }
   ],
   "source": [
    "train_set.head()"
   ]
  },
  {
   "cell_type": "markdown",
   "metadata": {},
   "source": [
    "## Helper Functions for Features\n",
    "Below are functions defined to carry out some of the desired feature engineering and transformations performed in the data analysis stage (see data_analysis.ipynb for more)"
   ]
  },
  {
   "cell_type": "code",
   "execution_count": 5,
   "metadata": {},
   "outputs": [],
   "source": [
    "import numpy as np\n",
    "\n",
    "def replace_na_with_none(df: pd.DataFrame, features):\n",
    "    \"\"\" Replace missing values with a 'none' string value.\n",
    "\n",
    "    Args:\n",
    "        df (pandas.DataFrame): The pandas dataframe object to replace missing values with 'none'.\n",
    "        features (array-like object): Array-like object containing the name feature of features to apply the transformation to. \n",
    "\n",
    "    Returns:\n",
    "        df (pandas.DataFrame): The pandas dataframe object with missing values replaces with 'none'.\n",
    "    \"\"\"\n",
    "    df[features].fillna(\"none\")\n",
    "    return df\n",
    "\n",
    "def createHasBsmtFullBath(df: pd.DataFrame):\n",
    "    \"\"\" Create the HasBsmtFullBath categorical attribute.\n",
    "\n",
    "    Args:\n",
    "        df (pandas.DataFrame): The pandas dataframe object to create the HasBsmtFullBath attribute for.\n",
    "\n",
    "    Returns:\n",
    "        df (pandas.DataFrame): The given pandas dataframe object with the new attribute.\n",
    "    \"\"\"\n",
    "    hasBsmtFullBath = np.zeros(df.shape[0])\n",
    "\n",
    "    for i, numberofBsmtFullBaths in enumerate(df[\"BsmtFullBath\"]):\n",
    "        if numberofBsmtFullBaths > 0:\n",
    "            hasBsmtFullBath[i] = 1\n",
    "\n",
    "    df[\"HasBsmtFullBath\"] = pd.Series(hasBsmtFullBath)\n",
    "    df = df.drop(columns=[\"BsmtFullBath\"])\n",
    "    \n",
    "    return df\n",
    "\n",
    "def createHasHalfBath(df: pd.DataFrame):\n",
    "    \"\"\" Create the HasHalfBath categorical attribute.\n",
    "\n",
    "    Args:\n",
    "        df (pandas.DataFrame): The pandas dataframe object to create the HasHalfBath attribute for.\n",
    "\n",
    "    Returns:\n",
    "        df (pandas.DataFrame): The given pandas dataframe object with the new attribute.\n",
    "    \"\"\"\n",
    "    hasHalfBath = np.zeros(df.shape[0])\n",
    "\n",
    "    for i, numberofHalfBaths in enumerate(df[\"HalfBath\"]):\n",
    "        if numberofHalfBaths > 0:\n",
    "            hasHalfBath[i] = 1\n",
    "\n",
    "    df[\"HasHalfBath\"] = pd.Series(hasHalfBath)\n",
    "    df = df.drop(columns=[\"HalfBath\"])\n",
    "    \n",
    "    return df\n",
    "\n",
    "def log_transform_features(df: pd.DataFrame, features):\n",
    "    \"\"\" Log transform the input features\n",
    "\n",
    "    Args:\n",
    "        df (pandas.DataFrame): A pandas dataframe object containing the features used for a model.\n",
    "        features (array-like object of strings): An array-like object containing the name of the features in df to be transformed. \n",
    "\n",
    "    Returns:\n",
    "        df (pandas.DataFrame): The pandas dataframe object containing the features used for the model and with the desired features log-transformed.\n",
    "    \"\"\"\n",
    "    try:\n",
    "        features_iterator = iter(features)\n",
    "        for feature in features_iterator:\n",
    "            df[feature] = np.log(df[feature] + 0.001)\n",
    "        \n",
    "        return df\n",
    "\n",
    "    except TypeError as error:\n",
    "        print(error)\n",
    "\n",
    "def apply_custom_transformations(df: pd.DataFrame, categorical_attributes, continuous_attributes, target_attribute: str):\n",
    "    \"\"\" Apply the feature helper functions to a given pandas dataframe object to apply the custom data transformations.\n",
    "\n",
    "    Args:\n",
    "        df (pandas.DataFrame): A pandas dataframe object contiaining the dataset to be modelled.\n",
    "        categorical_attributes: An array-like object containing the names of the desired categorical attributes.\n",
    "        continuous attributes: An array-like object containing the names of the desired continuous attributes.\n",
    "        target_attribute (string): The name of the target attribute.\n",
    "\n",
    "    Returns:\n",
    "        (X, y): A tuple of the transformed features X and the transformed target y.\n",
    "    \"\"\"\n",
    "    partially_prepped_set = replace_na_with_none(df, categorical_attributes)\n",
    "    partially_prepped_set = createHasBsmtFullBath(partially_prepped_set)\n",
    "    partially_prepped_set = createHasHalfBath(partially_prepped_set)\n",
    "    partially_prepped_set = log_transform_features(partially_prepped_set, continuous_attributes)\n",
    "\n",
    "    X = partially_prepped_set.drop(columns=[target_attribute])\n",
    "    y = partially_prepped_set[target_attribute]\n",
    "\n",
    "    return X, y"
   ]
  },
  {
   "cell_type": "markdown",
   "metadata": {},
   "source": [
    "## Pipeline for Data Preprocessing \n",
    "First, the helper functions are applied to perform initial feature engineering and data preprocessing. Then the data is passed through a scikit-learn pipeline for further preprocessing."
   ]
  },
  {
   "cell_type": "code",
   "execution_count": 6,
   "metadata": {},
   "outputs": [
    {
     "name": "stdout",
     "output_type": "stream",
     "text": [
      "(1168, 56)\n",
      "(292, 56)\n"
     ]
    }
   ],
   "source": [
    "continuous_data_attributes = [\n",
    "    \"SalePrice\",\n",
    "    \"LotFrontage\",\n",
    "    \"MasVnrArea\",\n",
    "    \"BsmtFinSF1\",\n",
    "    \"TotalBsmtSF\",\n",
    "    \"1stFlrSF\",\n",
    "    \"2ndFlrSF\",\n",
    "    \"GrLivArea\",\n",
    "    \"GarageArea\"\n",
    "]\n",
    "\n",
    "continuous_features = [\n",
    "    \"LotFrontage\",\n",
    "    \"MasVnrArea\",\n",
    "    \"BsmtFinSF1\",\n",
    "    \"TotalBsmtSF\",\n",
    "    \"1stFlrSF\",\n",
    "    \"2ndFlrSF\",\n",
    "    \"GrLivArea\",\n",
    "    \"GarageArea\"\n",
    "]\n",
    "\n",
    "categorical_features = [\n",
    "    \"MSSubClass\",\n",
    "    \"MSZoning\",\n",
    "    \"BldgType\",\n",
    "    \"HouseStyle\",\n",
    "    \"OverallQual\",\n",
    "    \"OverallCond\",\n",
    "    \"BsmtFullBath\",\n",
    "    \"FullBath\",\n",
    "    \"HalfBath\",\n",
    "    \"TotRmsAbvGrd\",\n",
    "    \"Fireplaces\",\n",
    "    \"FireplaceQu\",\n",
    "    \"GarageCars\",\n",
    "    \"GarageType\",\n",
    "    \"GarageFinish\",\n",
    "    \"GarageQual\",\n",
    "    \"GarageCond\",\n",
    "    \"PavedDrive\",\n",
    "    \"Street\",\n",
    "    \"Alley\",\n",
    "    \"LotShape\",\n",
    "    \"LandContour\",\n",
    "    \"LotConfig\",\n",
    "    \"LandSlope\",\n",
    "    \"Neighborhood\",\n",
    "    \"Condition1\",\n",
    "    \"Condition2\",\n",
    "    \"RoofStyle\",\n",
    "    \"RoofMatl\",\n",
    "    \"Exterior1st\",\n",
    "    \"Exterior2nd\",\n",
    "    \"MasVnrType\",\n",
    "    \"ExterQual\",\n",
    "    \"ExterCond\",\n",
    "    \"Foundation\",\n",
    "    \"BsmtQual\",\n",
    "    \"BsmtCond\",\n",
    "    \"BsmtExposure\",\n",
    "    \"BsmtFinType1\",\n",
    "    \"BsmtFinType2\",\n",
    "    \"Heating\",\n",
    "    \"HeatingQC\",\n",
    "    \"CentralAir\",\n",
    "    \"Electrical\",\n",
    "    \"PoolQC\",\n",
    "    \"SaleType\",\n",
    "    \"SaleCondition\"\n",
    "]\n",
    "\n",
    "partially_prepped_categorical_features = [\n",
    "    \"MSSubClass\",\n",
    "    \"MSZoning\",\n",
    "    \"BldgType\",\n",
    "    \"HouseStyle\",\n",
    "    \"OverallQual\",\n",
    "    \"OverallCond\",\n",
    "    \"HasBsmtFullBath\",\n",
    "    \"FullBath\",\n",
    "    \"HasHalfBath\",\n",
    "    \"TotRmsAbvGrd\",\n",
    "    \"Fireplaces\",\n",
    "    \"FireplaceQu\",\n",
    "    \"GarageCars\",\n",
    "    \"GarageType\",\n",
    "    \"GarageFinish\",\n",
    "    \"GarageQual\",\n",
    "    \"GarageCond\",\n",
    "    \"PavedDrive\",\n",
    "    \"Street\",\n",
    "    \"Alley\",\n",
    "    \"LotShape\",\n",
    "    \"LandContour\",\n",
    "    \"LotConfig\",\n",
    "    \"LandSlope\",\n",
    "    \"Neighborhood\",\n",
    "    \"Condition1\",\n",
    "    \"Condition2\",\n",
    "    \"RoofStyle\",\n",
    "    \"RoofMatl\",\n",
    "    \"Exterior1st\",\n",
    "    \"Exterior2nd\",\n",
    "    \"MasVnrType\",\n",
    "    \"ExterQual\",\n",
    "    \"ExterCond\",\n",
    "    \"Foundation\",\n",
    "    \"BsmtQual\",\n",
    "    \"BsmtCond\",\n",
    "    \"BsmtExposure\",\n",
    "    \"BsmtFinType1\",\n",
    "    \"BsmtFinType2\",\n",
    "    \"Heating\",\n",
    "    \"HeatingQC\",\n",
    "    \"CentralAir\",\n",
    "    \"Electrical\",\n",
    "    \"PoolQC\",\n",
    "    \"SaleType\",\n",
    "    \"SaleCondition\"\n",
    "]\n",
    "\n",
    "attributes = continuous_data_attributes + categorical_features\n",
    "train_set = train_set[attributes]\n",
    "test_set = test_set[attributes]\n",
    "\n",
    "print(train_set.shape)\n",
    "print(test_set.shape)"
   ]
  },
  {
   "cell_type": "code",
   "execution_count": 7,
   "metadata": {},
   "outputs": [
    {
     "name": "stdout",
     "output_type": "stream",
     "text": [
      "(1168, 55)\n",
      "(1168,)\n"
     ]
    }
   ],
   "source": [
    "X_train, y_train = apply_custom_transformations(train_set, categorical_features, continuous_data_attributes, \"SalePrice\")\n",
    "\n",
    "print(X_train.shape)\n",
    "print(y_train.shape)"
   ]
  },
  {
   "cell_type": "code",
   "execution_count": 8,
   "metadata": {},
   "outputs": [],
   "source": [
    "from sklearn.compose import ColumnTransformer\n",
    "from sklearn.pipeline import Pipeline\n",
    "from sklearn.preprocessing import MinMaxScaler, OneHotEncoder\n",
    "from sklearn.experimental import enable_iterative_imputer\n",
    "from sklearn.impute import IterativeImputer\n",
    "\n",
    "continuous_pipeline = Pipeline([\n",
    "    (\"min_max_scaler\", MinMaxScaler()),\n",
    "    (\"imputer\", IterativeImputer(random_state=42))\n",
    "])\n",
    "\n",
    "categorical_pipeline = Pipeline([\n",
    "    (\"feature_encoder\", OneHotEncoder(handle_unknown=\"ignore\"))\n",
    "])\n",
    "\n",
    "full_pipeline = ColumnTransformer([\n",
    "    (\"continuous\", continuous_pipeline, continuous_features),\n",
    "    (\"categorical\", categorical_pipeline, partially_prepped_categorical_features)\n",
    "])"
   ]
  },
  {
   "cell_type": "code",
   "execution_count": 9,
   "metadata": {},
   "outputs": [
    {
     "name": "stdout",
     "output_type": "stream",
     "text": [
      "<class 'scipy.sparse._csr.csr_matrix'>\n",
      "<class 'numpy.ndarray'>\n",
      "(1168, 316)\n",
      "(1168, 1)\n"
     ]
    }
   ],
   "source": [
    "X_train_prepared = full_pipeline.fit_transform(X_train)\n",
    "y_train_prepared = continuous_pipeline.fit_transform(y_train.to_numpy().reshape(-1, 1))\n",
    "\n",
    "print(type(X_train_prepared))\n",
    "print(type(y_train_prepared))\n",
    "\n",
    "print(X_train_prepared.shape)\n",
    "print(y_train_prepared.shape)"
   ]
  },
  {
   "cell_type": "markdown",
   "metadata": {},
   "source": [
    "## Baseline Model - Mean Prediction\n",
    "A naive model that predicts the mean will be used as the baseline model to beat."
   ]
  },
  {
   "cell_type": "code",
   "execution_count": 10,
   "metadata": {},
   "outputs": [
    {
     "name": "stdout",
     "output_type": "stream",
     "text": [
      "(292, 55)\n",
      "(292,)\n",
      "(292, 316)\n",
      "(292, 1)\n",
      "Root Mean Squared Error: 0.1411311175039301\n",
      "R-Squared Coefficient: 0.0\n"
     ]
    }
   ],
   "source": [
    "from sklearn.metrics import mean_squared_error, r2_score\n",
    "\n",
    "X_test, y_test = apply_custom_transformations(test_set, categorical_features, continuous_data_attributes, \"SalePrice\")\n",
    "\n",
    "print(X_test.shape)\n",
    "print(y_test.shape)\n",
    "\n",
    "X_test_prepared = full_pipeline.transform(X_test)\n",
    "y_test_prepared = continuous_pipeline.transform(y_test.to_numpy().reshape(-1, 1))\n",
    "\n",
    "print(X_test_prepared.shape)\n",
    "print(y_test_prepared.shape)\n",
    "\n",
    "baseline_predictions = np.array([y_test_prepared.mean() for i in range(y_test_prepared.shape[0])]).reshape(-1, 1)\n",
    "\n",
    "error = np.sqrt(mean_squared_error(y_test_prepared, baseline_predictions))\n",
    "r2 = r2_score(y_test_prepared, baseline_predictions)\n",
    "\n",
    "print(f\"Root Mean Squared Error: {error}\")\n",
    "print(f\"R-Squared Coefficient: {r2}\")"
   ]
  },
  {
   "cell_type": "markdown",
   "metadata": {},
   "source": [
    "### Helper function for displaying Root Mean-squared Error scores from Cross Validation"
   ]
  },
  {
   "cell_type": "code",
   "execution_count": 11,
   "metadata": {},
   "outputs": [],
   "source": [
    "def display_cv_scores(scores):\n",
    "    \"\"\" Display the error scores from cross validation and basic statistics.\n",
    "\n",
    "    Args:\n",
    "        scores (array-like): An array-like object containing the error scores from cross validation.\n",
    "\n",
    "    Returns:\n",
    "        None\n",
    "    \"\"\"\n",
    "    print(f\"Scores: {scores}\")\n",
    "    print(f\"Mean: {scores.mean()}\")\n",
    "    print(f\"Standard Deviation: {scores.std()}\")"
   ]
  },
  {
   "cell_type": "markdown",
   "metadata": {},
   "source": [
    "## Model Development - Exploration"
   ]
  },
  {
   "cell_type": "markdown",
   "metadata": {},
   "source": [
    "### Ridge Regression"
   ]
  },
  {
   "cell_type": "code",
   "execution_count": 16,
   "metadata": {},
   "outputs": [
    {
     "name": "stdout",
     "output_type": "stream",
     "text": [
      "(1168, 316)\n",
      "(1168, 1)\n",
      "(292, 316)\n",
      "(292, 1)\n",
      "Root Mean Squared Error: 0.032866471260588906\n",
      "R-Squared Coefficient: 0.9336115920541752\n"
     ]
    }
   ],
   "source": [
    "from sklearn.linear_model import Ridge\n",
    "from sklearn.metrics import mean_squared_error, r2_score\n",
    "\n",
    "print(X_train_prepared.shape)\n",
    "print(y_train_prepared.shape)\n",
    "print(X_test_prepared.shape)\n",
    "print(y_test_prepared.shape)\n",
    "\n",
    "ridge_reg = Ridge(random_state=42)\n",
    "ridge_reg.fit(X_train_prepared, y_train_prepared)\n",
    "ridge_reg_preds = ridge_reg.predict(X_train_prepared)\n",
    "\n",
    "ridge_reg_error = np.sqrt(mean_squared_error(y_train_prepared, ridge_reg_preds))\n",
    "ridge_reg_r2 = r2_score(y_train_prepared, ridge_reg_preds)\n",
    "print(f\"Root Mean Squared Error: {ridge_reg_error}\")\n",
    "print(f\"R-Squared Coefficient: {ridge_reg_r2}\")"
   ]
  },
  {
   "cell_type": "code",
   "execution_count": 13,
   "metadata": {},
   "outputs": [
    {
     "name": "stdout",
     "output_type": "stream",
     "text": [
      "CV Scores and Statistics for RMSE:\n",
      "\n",
      "Scores: [0.03776917 0.05032468 0.03920957 0.05939019 0.06366347 0.04971921\n",
      " 0.04502589 0.03928121 0.04401541 0.0311406 ]\n",
      "Mean: 0.045953939942091265\n",
      "Standard Deviation: 0.009531511949242335\n",
      "\n",
      "\n",
      "CV Scores and Statistics for R-Squared Coefficient:\n",
      "\n",
      "Scores: [0.8863129  0.87011025 0.89817716 0.77789265 0.73899829 0.89977123\n",
      " 0.86641783 0.90268408 0.8506723  0.93286089]\n",
      "Mean: 0.8623897585058501\n",
      "Standard Deviation: 0.05693732216279896\n"
     ]
    }
   ],
   "source": [
    "from sklearn.model_selection import cross_val_score\n",
    "from sklearn.metrics import mean_squared_error\n",
    "\n",
    "\n",
    "ridge_reg_cv_mse_scores = cross_val_score(ridge_reg, X_train_prepared, y_train_prepared, cv=10, scoring=\"neg_mean_squared_error\")\n",
    "ridge_reg_cv_rmse_scores = np.sqrt(abs(ridge_reg_cv_mse_scores))\n",
    "ridge_reg_cv_r2_scores = cross_val_score(ridge_reg, X_train_prepared, y_train_prepared, cv=10, scoring=\"r2\")\n",
    "\n",
    "print(\"CV Scores and Statistics for RMSE:\\n\")\n",
    "display_cv_scores(ridge_reg_cv_rmse_scores)\n",
    "print(\"\\n\")\n",
    "print(\"CV Scores and Statistics for R-Squared Coefficient:\\n\")\n",
    "display_cv_scores(ridge_reg_cv_r2_scores)"
   ]
  },
  {
   "cell_type": "markdown",
   "metadata": {},
   "source": [
    "### Linear SVM"
   ]
  },
  {
   "cell_type": "code",
   "execution_count": 17,
   "metadata": {},
   "outputs": [
    {
     "name": "stdout",
     "output_type": "stream",
     "text": [
      "(1168, 316)\n",
      "(1168, 1)\n",
      "(292, 316)\n",
      "(292, 1)\n",
      "Root Mean Squared Error: 0.03238732455020944\n",
      "R-Squared Coefficient: 0.9355331805416471\n"
     ]
    }
   ],
   "source": [
    "from sklearn.svm import LinearSVR\n",
    "from sklearn.metrics import mean_squared_error, r2_score\n",
    "\n",
    "print(X_train_prepared.shape)\n",
    "print(y_train_prepared.shape)\n",
    "print(X_test_prepared.shape)\n",
    "print(y_test_prepared.shape)\n",
    "\n",
    "linear_svm = LinearSVR(random_state=42, dual=False, loss=\"squared_epsilon_insensitive\")\n",
    "linear_svm.fit(X_train_prepared, y_train_prepared.flatten())\n",
    "linear_svm_preds = linear_svm.predict(X_train_prepared)\n",
    "\n",
    "linear_svm_error = np.sqrt(mean_squared_error(y_train_prepared.flatten(), linear_svm_preds))\n",
    "linear_svm_r2 = r2_score(y_train_prepared.flatten(), linear_svm_preds)\n",
    "print(f\"Root Mean Squared Error: {linear_svm_error}\")\n",
    "print(f\"R-Squared Coefficient: {linear_svm_r2}\")"
   ]
  },
  {
   "cell_type": "code",
   "execution_count": 18,
   "metadata": {},
   "outputs": [
    {
     "name": "stdout",
     "output_type": "stream",
     "text": [
      "CV Scores and Statistics for RMSE:\n",
      "\n",
      "Scores: [0.03861523 0.0505713  0.03950778 0.06106219 0.06621297 0.04893098\n",
      " 0.04806584 0.0392905  0.04624776 0.03037083]\n",
      "Mean: 0.046887536818622545\n",
      "Standard Deviation: 0.010233988174234793\n",
      "\n",
      "\n",
      "CV Scores and Statistics for R-Squared Coefficient:\n",
      "\n",
      "Scores: [0.88116252 0.86883406 0.89662246 0.76521074 0.71767525 0.90292401\n",
      " 0.84777115 0.90263802 0.83514122 0.93613912]\n",
      "Mean: 0.8554118550636565\n",
      "Standard Deviation: 0.06412726794384478\n"
     ]
    }
   ],
   "source": [
    "from sklearn.model_selection import cross_val_score\n",
    "from sklearn.metrics import mean_squared_error\n",
    "\n",
    "\n",
    "linear_svm_cv_mse_scores = cross_val_score(linear_svm, X_train_prepared, y_train_prepared.flatten(), cv=10, scoring=\"neg_mean_squared_error\")\n",
    "linear_svm_cv_rmse_scores = np.sqrt(abs(linear_svm_cv_mse_scores))\n",
    "linear_svm_cv_r2_scores = cross_val_score(linear_svm, X_train_prepared, y_train_prepared.flatten(), cv=10, scoring=\"r2\")\n",
    "\n",
    "print(\"CV Scores and Statistics for RMSE:\\n\")\n",
    "display_cv_scores(linear_svm_cv_rmse_scores)\n",
    "print(\"\\n\")\n",
    "print(\"CV Scores and Statistics for R-Squared Coefficient:\\n\")\n",
    "display_cv_scores(linear_svm_cv_r2_scores)"
   ]
  },
  {
   "cell_type": "markdown",
   "metadata": {},
   "source": [
    "### RBF SVM"
   ]
  },
  {
   "cell_type": "code",
   "execution_count": 19,
   "metadata": {},
   "outputs": [
    {
     "name": "stdout",
     "output_type": "stream",
     "text": [
      "(1168, 316)\n",
      "(1168, 1)\n",
      "(292, 316)\n",
      "(292, 1)\n",
      "Root Mean Squared Error: 0.051464994008846784\n",
      "R-Squared Coefficient: 0.8372166616186614\n"
     ]
    }
   ],
   "source": [
    "from sklearn.svm import SVR\n",
    "from sklearn.metrics import mean_squared_error, r2_score\n",
    "\n",
    "print(X_train_prepared.shape)\n",
    "print(y_train_prepared.shape)\n",
    "print(X_test_prepared.shape)\n",
    "print(y_test_prepared.shape)\n",
    "\n",
    "rbf_svm = SVR(kernel=\"rbf\")\n",
    "rbf_svm.fit(X_train_prepared, y_train_prepared.flatten())\n",
    "rbf_svm_preds = rbf_svm.predict(X_train_prepared)\n",
    "\n",
    "rbf_svm_error = np.sqrt(mean_squared_error(y_train_prepared.flatten(), rbf_svm_preds))\n",
    "rbf_svm_r2 = r2_score(y_train_prepared.flatten(), rbf_svm_preds)\n",
    "print(f\"Root Mean Squared Error: {rbf_svm_error}\")\n",
    "print(f\"R-Squared Coefficient: {rbf_svm_r2}\")"
   ]
  },
  {
   "cell_type": "code",
   "execution_count": 20,
   "metadata": {},
   "outputs": [
    {
     "name": "stdout",
     "output_type": "stream",
     "text": [
      "CV Scores and Statistics for RMSE:\n",
      "\n",
      "Scores: [0.0579433  0.06731077 0.05438561 0.06119562 0.05991809 0.07540789\n",
      " 0.06511418 0.05900817 0.05399559 0.05584723]\n",
      "Mean: 0.06101264597197378\n",
      "Standard Deviation: 0.006310471368164176\n",
      "\n",
      "\n",
      "CV Scores and Statistics for R-Squared Coefficient:\n",
      "\n",
      "Scores: [0.7324268  0.767629   0.80410243 0.7641835  0.76880483 0.76944343\n",
      " 0.72063297 0.78039686 0.77527705 0.78406403]\n",
      "Mean: 0.7666960910683441\n",
      "Standard Deviation: 0.022973021144320767\n"
     ]
    }
   ],
   "source": [
    "from sklearn.model_selection import cross_val_score\n",
    "from sklearn.metrics import mean_squared_error\n",
    "\n",
    "\n",
    "rbf_svm_cv_mse_scores = cross_val_score(rbf_svm, X_train_prepared, y_train_prepared.flatten(), cv=10, scoring=\"neg_mean_squared_error\")\n",
    "rbf_svm_cv_rmse_scores = np.sqrt(abs(rbf_svm_cv_mse_scores))\n",
    "rbf_svm_cv_r2_scores = cross_val_score(rbf_svm, X_train_prepared, y_train_prepared.flatten(), cv=10, scoring=\"r2\")\n",
    "\n",
    "print(\"CV Scores and Statistics for RMSE:\\n\")\n",
    "display_cv_scores(rbf_svm_cv_rmse_scores)\n",
    "print(\"\\n\")\n",
    "print(\"CV Scores and Statistics for R-Squared Coefficient:\\n\")\n",
    "display_cv_scores(rbf_svm_cv_r2_scores)"
   ]
  },
  {
   "cell_type": "markdown",
   "metadata": {},
   "source": [
    "### Random Forest"
   ]
  },
  {
   "cell_type": "code",
   "execution_count": 21,
   "metadata": {},
   "outputs": [
    {
     "name": "stdout",
     "output_type": "stream",
     "text": [
      "(1168, 316)\n",
      "(1168, 1)\n",
      "(292, 316)\n",
      "(292, 1)\n",
      "Root Mean Squared Error: 0.018525086698494293\n",
      "R-Squared Coefficient: 0.9789085423118229\n"
     ]
    }
   ],
   "source": [
    "from sklearn.ensemble import RandomForestRegressor\n",
    "from sklearn.metrics import mean_squared_error, r2_score\n",
    "import numpy as np\n",
    "\n",
    "print(X_train_prepared.shape)\n",
    "print(y_train_prepared.shape)\n",
    "print(X_test_prepared.shape)\n",
    "print(y_test_prepared.shape)\n",
    "\n",
    "rf = RandomForestRegressor(random_state=42)\n",
    "rf.fit(X_train_prepared, y_train_prepared.flatten())\n",
    "rf_preds = rf.predict(X_train_prepared)\n",
    "\n",
    "rf_error = np.sqrt(mean_squared_error(y_train_prepared.flatten(), rf_preds))\n",
    "rf_r2 = r2_score(y_train_prepared.flatten(), rf_preds)\n",
    "print(f\"Root Mean Squared Error: {rf_error}\")\n",
    "print(f\"R-Squared Coefficient: {rf_r2}\")"
   ]
  },
  {
   "cell_type": "code",
   "execution_count": 22,
   "metadata": {},
   "outputs": [
    {
     "name": "stdout",
     "output_type": "stream",
     "text": [
      "CV Scores and Statistics for RMSE:\n",
      "\n",
      "Scores: [0.03598903 0.05766059 0.04279861 0.0651481  0.05400511 0.0641665\n",
      " 0.0522516  0.04887763 0.04423385 0.04037314]\n",
      "Mean: 0.05055041584045972\n",
      "Standard Deviation: 0.009392934929445212\n",
      "\n",
      "\n",
      "CV Scores and Statistics for R-Squared Coefficient:\n",
      "\n",
      "Scores: [0.89677697 0.82948169 0.87868339 0.73273812 0.81218402 0.83305992\n",
      " 0.82010329 0.84932733 0.84918649 0.88714869]\n",
      "Mean: 0.8388689917573702\n",
      "Standard Deviation: 0.044648790414122945\n"
     ]
    }
   ],
   "source": [
    "from sklearn.model_selection import cross_val_score\n",
    "from sklearn.metrics import mean_squared_error\n",
    "\n",
    "\n",
    "rf_cv_mse_scores = cross_val_score(rf, X_train_prepared, y_train_prepared.flatten(), cv=10, scoring=\"neg_mean_squared_error\")\n",
    "rf_cv_rmse_scores = np.sqrt(abs(rf_cv_mse_scores))\n",
    "rf_cv_r2_scores = cross_val_score(rf, X_train_prepared, y_train_prepared.flatten(), cv=10, scoring=\"r2\")\n",
    "\n",
    "print(\"CV Scores and Statistics for RMSE:\\n\")\n",
    "display_cv_scores(rf_cv_rmse_scores)\n",
    "print(\"\\n\")\n",
    "print(\"CV Scores and Statistics for R-Squared Coefficient:\\n\")\n",
    "display_cv_scores(rf_cv_r2_scores)"
   ]
  },
  {
   "cell_type": "markdown",
   "metadata": {},
   "source": [
    "### Gradient Boosting - Gradient Boosting Regressor"
   ]
  },
  {
   "cell_type": "code",
   "execution_count": 23,
   "metadata": {},
   "outputs": [
    {
     "name": "stdout",
     "output_type": "stream",
     "text": [
      "(1168, 316)\n",
      "(1168, 1)\n",
      "(292, 316)\n",
      "(292, 1)\n",
      "Root Mean Squared Error: 0.029145769018466383\n",
      "R-Squared Coefficient: 0.9477919905269635\n"
     ]
    }
   ],
   "source": [
    "from sklearn.ensemble import GradientBoostingRegressor\n",
    "from sklearn.metrics import mean_squared_error, r2_score\n",
    "import numpy as np\n",
    "\n",
    "print(X_train_prepared.shape)\n",
    "print(y_train_prepared.shape)\n",
    "print(X_test_prepared.shape)\n",
    "print(y_test_prepared.shape)\n",
    "\n",
    "gbrt = GradientBoostingRegressor(random_state=42)\n",
    "gbrt.fit(X_train_prepared, y_train_prepared.flatten())\n",
    "gbrt_preds = gbrt.predict(X_train_prepared)\n",
    "\n",
    "gbrt_error = np.sqrt(mean_squared_error( y_train_prepared.flatten(), gbrt_preds))\n",
    "gbrt_r2 = r2_score( y_train_prepared.flatten(), gbrt_preds)\n",
    "print(f\"Root Mean Squared Error: {gbrt_error}\")\n",
    "print(f\"R-Squared Coefficient: {gbrt_r2}\")"
   ]
  },
  {
   "cell_type": "code",
   "execution_count": 24,
   "metadata": {},
   "outputs": [
    {
     "name": "stdout",
     "output_type": "stream",
     "text": [
      "CV Scores and Statistics for RMSE:\n",
      "\n",
      "Scores: [0.03032411 0.05113177 0.04272181 0.06050483 0.04684522 0.0557952\n",
      " 0.04581899 0.04016334 0.04375031 0.03512748]\n",
      "Mean: 0.04521830514786847\n",
      "Standard Deviation: 0.008608875830918608\n",
      "\n",
      "\n",
      "CV Scores and Statistics for R-Squared Coefficient:\n",
      "\n",
      "Scores: [0.92671549 0.86591059 0.87911836 0.76947734 0.85868334 0.87377727\n",
      " 0.86167044 0.89826418 0.85246571 0.91456898]\n",
      "Mean: 0.8700651695666057\n",
      "Standard Deviation: 0.04089706783233382\n"
     ]
    }
   ],
   "source": [
    "from sklearn.model_selection import cross_val_score\n",
    "from sklearn.metrics import mean_squared_error\n",
    "\n",
    "\n",
    "gbrt_cv_mse_scores = cross_val_score(gbrt, X_train_prepared, y_train_prepared.flatten(), cv=10, scoring=\"neg_mean_squared_error\")\n",
    "gbrt_cv_rmse_scores = np.sqrt(abs(gbrt_cv_mse_scores))\n",
    "gbrt_cv_r2_scores = cross_val_score(gbrt, X_train_prepared, y_train_prepared.flatten(), cv=10, scoring=\"r2\")\n",
    "\n",
    "print(\"CV Scores and Statistics for RMSE:\\n\")\n",
    "display_cv_scores(gbrt_cv_rmse_scores)\n",
    "print(\"\\n\")\n",
    "print(\"CV Scores and Statistics for R-Squared Coefficient:\\n\")\n",
    "display_cv_scores(gbrt_cv_r2_scores)"
   ]
  },
  {
   "cell_type": "markdown",
   "metadata": {},
   "source": [
    "### Gradient Boosting - XGBoost"
   ]
  },
  {
   "cell_type": "code",
   "execution_count": 25,
   "metadata": {},
   "outputs": [
    {
     "name": "stderr",
     "output_type": "stream",
     "text": [
      "c:\\Users\\stefa\\.conda\\envs\\ames_housing_prediction\\lib\\site-packages\\xgboost\\compat.py:36: FutureWarning: pandas.Int64Index is deprecated and will be removed from pandas in a future version. Use pandas.Index with the appropriate dtype instead.\n",
      "  from pandas import MultiIndex, Int64Index\n"
     ]
    },
    {
     "name": "stdout",
     "output_type": "stream",
     "text": [
      "(1168, 316)\n",
      "(1168, 1)\n",
      "(292, 316)\n",
      "(292, 1)\n",
      "Root Mean Squared Error: 0.0036241775138005075\n",
      "R-Squared Coefficient: 0.9991927556377475\n"
     ]
    }
   ],
   "source": [
    "from xgboost import XGBRegressor\n",
    "from sklearn.metrics import mean_squared_error, r2_score\n",
    "import numpy as np\n",
    "\n",
    "print(X_train_prepared.shape)\n",
    "print(y_train_prepared.shape)\n",
    "print(X_test_prepared.shape)\n",
    "print(y_test_prepared.shape)\n",
    "\n",
    "xgb_reg = XGBRegressor(random_state=42)\n",
    "xgb_reg.fit(X_train_prepared, y_train_prepared.flatten())\n",
    "xgb_reg_preds = xgb_reg.predict(X_train_prepared)\n",
    "\n",
    "xgb_reg_error = np.sqrt(mean_squared_error(y_train_prepared.flatten(), xgb_reg_preds))\n",
    "xgb_reg_r2 = r2_score(y_train_prepared.flatten(), xgb_reg_preds)\n",
    "print(f\"Root Mean Squared Error: {xgb_reg_error}\")\n",
    "print(f\"R-Squared Coefficient: {xgb_reg_r2}\")"
   ]
  },
  {
   "cell_type": "code",
   "execution_count": 26,
   "metadata": {},
   "outputs": [
    {
     "name": "stdout",
     "output_type": "stream",
     "text": [
      "CV Scores and Statistics for RMSE:\n",
      "\n",
      "Scores: [0.03998845 0.06043425 0.04509955 0.06781546 0.04883675 0.05829147\n",
      " 0.04681353 0.04452062 0.04154433 0.0390204 ]\n",
      "Mean: 0.049236481497167674\n",
      "Standard Deviation: 0.009203307857140321\n",
      "\n",
      "\n",
      "CV Scores and Statistics for R-Squared Coefficient:\n",
      "\n",
      "Scores: [0.87256013 0.81268217 0.86528825 0.71040508 0.84641235 0.86223025\n",
      " 0.85560015 0.87499231 0.86696854 0.89458435]\n",
      "Mean: 0.8461723570695316\n",
      "Standard Deviation: 0.04956779948666943\n"
     ]
    }
   ],
   "source": [
    "from sklearn.model_selection import cross_val_score\n",
    "from sklearn.metrics import mean_squared_error\n",
    "\n",
    "\n",
    "xgb_reg_cv_mse_scores = cross_val_score(xgb_reg, X_train_prepared, y_train_prepared.flatten(), cv=10, scoring=\"neg_mean_squared_error\")\n",
    "xgb_reg_cv_rmse_scores = np.sqrt(abs(xgb_reg_cv_mse_scores))\n",
    "xgb_reg_cv_r2_scores = cross_val_score(xgb_reg, X_train_prepared, y_train_prepared.flatten(), cv=10, scoring=\"r2\")\n",
    "\n",
    "print(\"CV Scores and Statistics for RMSE:\\n\")\n",
    "display_cv_scores(xgb_reg_cv_rmse_scores)\n",
    "print(\"\\n\")\n",
    "print(\"CV Scores and Statistics for R-Squared Coefficient:\\n\")\n",
    "display_cv_scores(xgb_reg_cv_r2_scores)"
   ]
  },
  {
   "cell_type": "markdown",
   "metadata": {},
   "source": [
    "### Top Candidate Models\n",
    "Based on initial model exploration, below are the top 3 candidate models to further fine-tune and compare results:\n",
    "- Gradient Boosting Regression\n",
    "- Ridge Regression\n",
    "- Linear SVM\n",
    "\n",
    "Random Forest and XGBoost seem to be more heavily prone to overfitting than the above, but could potentially be worth fine-tuning to see if they can be generlized further."
   ]
  },
  {
   "cell_type": "markdown",
   "metadata": {},
   "source": [
    "## Model Development - Fine-tuning/Optimization"
   ]
  },
  {
   "cell_type": "markdown",
   "metadata": {},
   "source": [
    "### Helper functions"
   ]
  },
  {
   "cell_type": "code",
   "execution_count": null,
   "metadata": {},
   "outputs": [],
   "source": [
    "import matplotlib.pyplot as plt\n",
    "import numpy as np\n",
    "from sklearn.metrics import mean_squared_error\n",
    "from sklearn.model_selection import train_test_split\n",
    "\n",
    "def plot_learning_curves(model, X, y):\n",
    "    \"\"\" Plot the learning curves for the training set error and the validation set error\n",
    "\n",
    "    Args:\n",
    "        model: The model to fit onto a training set that will be generated.\n",
    "        X: The features of the data set used predict the target attribute.\n",
    "        y: The target attribute to predict.\n",
    "\n",
    "    Returns:\n",
    "        None\n",
    "    \"\"\"\n",
    "    X_train, X_val, y_train, y_val = train_test_split(X, y, test_size=0.2)\n",
    "    train_errors, val_errors = [], []\n",
    "\n",
    "    for m in range(1, len(X_train)):\n",
    "        model.fit(X_train[:m], y_train[:m])\n",
    "\n",
    "        y_train_predict = model.predict(X_train[:m])\n",
    "        y_val_predict = model.predict(X_val)\n",
    "\n",
    "        train_errors.append(mean_squared_error(y_train[:m], y_train_predict))\n",
    "        val_errors.append(mean_squared_error(y_val, y_val_predict))\n",
    "\n",
    "    plt.plot(np.sqrt(train_errors), \"r-+\", linewidth=2, label=\"train\")\n",
    "    plt.plot(np.sqrt(val_errors), \"b-\", linewidth=3, label=\"val\")"
   ]
  }
 ],
 "metadata": {
  "kernelspec": {
   "display_name": "Python 3.10.4 ('ames_housing_prediction')",
   "language": "python",
   "name": "python3"
  },
  "language_info": {
   "codemirror_mode": {
    "name": "ipython",
    "version": 3
   },
   "file_extension": ".py",
   "mimetype": "text/x-python",
   "name": "python",
   "nbconvert_exporter": "python",
   "pygments_lexer": "ipython3",
   "version": "3.10.4"
  },
  "orig_nbformat": 4,
  "vscode": {
   "interpreter": {
    "hash": "4e7cb4bb7c503a87b08cc4912e3f18041ba300cf13020f9adf04a3d56f8dd58a"
   }
  }
 },
 "nbformat": 4,
 "nbformat_minor": 2
}
